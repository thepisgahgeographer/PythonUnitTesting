{
 "metadata": {
  "language_info": {
   "codemirror_mode": {
    "name": "ipython",
    "version": 3
   },
   "file_extension": ".py",
   "mimetype": "text/x-python",
   "name": "python",
   "nbconvert_exporter": "python",
   "pygments_lexer": "ipython3",
   "version": "3.8.5-final"
  },
  "orig_nbformat": 2,
  "kernelspec": {
   "name": "Python 3.8.5 64-bit ('GISAPI': conda)",
   "display_name": "Python 3.8.5 64-bit ('GISAPI': conda)",
   "metadata": {
    "interpreter": {
     "hash": "d36bcb9db2b01809dd0786a778839d7cb7bf4091d5809431ddbab2266db9b46f"
    }
   }
  }
 },
 "nbformat": 4,
 "nbformat_minor": 2,
 "cells": [
  {
   "cell_type": "code",
   "execution_count": null,
   "metadata": {},
   "outputs": [],
   "source": [
    "from laspy.file import File\n",
    "import numpy as np\n",
    "\n",
    "inFile = File(r'C:\\GIS_Data\\Lidar\\27257_1\\27257_1.las', mode='r')\n",
    "\n"
   ]
  },
  {
   "cell_type": "code",
   "execution_count": null,
   "metadata": {},
   "outputs": [],
   "source": [
    "headerformat = inFile.header.header_format\n",
    "for spec in headerformat:\n",
    "    print(spec.name)"
   ]
  },
  {
   "cell_type": "code",
   "execution_count": 60,
   "metadata": {},
   "outputs": [
    {
     "output_type": "stream",
     "name": "stdout",
     "text": [
      "Z Max: 2438.75  Z Min: 1329.6200000000001\nX Min: 1267538.79  Y Max: 790331.62\n"
     ]
    }
   ],
   "source": [
    "inFile.num_returns\n",
    "inFile.classification\n",
    "\n",
    "print(f\"Z Max: {inFile.header.max[2]}  Z Min: {inFile.header.min[2]}\")\n",
    "print(f\"X Min: {inFile.header.max[0]}  Y Max: {inFile.header.min[1]}\")\n"
   ]
  },
  {
   "cell_type": "code",
   "execution_count": null,
   "metadata": {},
   "outputs": [],
   "source": [
    "import matplotlib.pyplot as plt\n",
    "plt.hist(inFile.intensity)\n",
    "plt.title(\"Histogram of the Intensity Dimension\")\n",
    "plt.show()"
   ]
  },
  {
   "cell_type": "code",
   "execution_count": null,
   "metadata": {},
   "outputs": [],
   "source": [
    "pointformat = inFile.point_format\n",
    "for spec in inFile.point_format:\n",
    "    print(spec.name)"
   ]
  },
  {
   "cell_type": "code",
   "execution_count": 57,
   "metadata": {},
   "outputs": [
    {
     "output_type": "execute_result",
     "data": {
      "text/plain": [
       "numpy.ndarray"
      ]
     },
     "metadata": {},
     "execution_count": 57
    }
   ],
   "source": [
    "import arcgis\n",
    "type(inFile.Z)\n"
   ]
  },
  {
   "cell_type": "code",
   "execution_count": null,
   "metadata": {},
   "outputs": [],
   "source": []
  }
 ]
}