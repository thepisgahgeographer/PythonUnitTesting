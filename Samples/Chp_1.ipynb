{
 "metadata": {
  "language_info": {
   "codemirror_mode": {
    "name": "ipython",
    "version": 3
   },
   "file_extension": ".py",
   "mimetype": "text/x-python",
   "name": "python",
   "nbconvert_exporter": "python",
   "pygments_lexer": "ipython3",
   "version": "3.6.10-final"
  },
  "orig_nbformat": 2,
  "kernelspec": {
   "name": "python3",
   "display_name": "Python 3"
  }
 },
 "nbformat": 4,
 "nbformat_minor": 2,
 "cells": [
  {
   "cell_type": "code",
   "execution_count": null,
   "metadata": {
    "tags": []
   },
   "outputs": [],
   "source": [
    "print(\"Hello World\")\n",
    "\n",
    "test = \"yuri potawsky\"\n",
    "print(test.title())"
   ]
  },
  {
   "cell_type": "code",
   "execution_count": null,
   "metadata": {},
   "outputs": [],
   "source": [
    "test2 = \" Rides Bikes\"\n",
    "message = f\"{test.title()}{test2}\"\n",
    "message"
   ]
  },
  {
   "cell_type": "code",
   "execution_count": null,
   "metadata": {
    "tags": []
   },
   "outputs": [],
   "source": [
    "import this"
   ]
  },
  {
   "cell_type": "code",
   "execution_count": 50,
   "metadata": {
    "tags": []
   },
   "outputs": [
    {
     "output_type": "stream",
     "name": "stdout",
     "text": "['salsa', 'ragley', 'trek', 'commencal']\nThe Commencal was removed\n\n The Salsa cost too much\n['origin8', 'ragley', 'salsa']\nNone\n"
    }
   ],
   "source": [
    "bikes = [\"salsa\", \"ragley\", \"origin8\"]\n",
    "bikes2 = [\"salsa\", \"ragley\", \"origin8\"]\n",
    "bikes[1]\n",
    "#statement = f\"My gravel bike is a {bikes[0].title()}\"\n",
    "#statement\n",
    "\n",
    "bikes[2] = \"commencal\"\n",
    "#bikes.append(\"Origin8\")\n",
    "bikes.insert(2, \"trek\")\n",
    "print(bikes)\n",
    "\n",
    "popped_bike = bikes.pop()\n",
    "print(f\"The {popped_bike.title()} was removed\")\n",
    "popped_bike_final = bikes.pop(1)\n",
    "popped_bike_final\n",
    "\n",
    "too_expensive = \"salsa\"\n",
    "bikes.remove(too_expensive)\n",
    "print(f\"\\n The {too_expensive.title()} cost too much\")\n",
    "\n",
    "\n",
    "print(sorted(bikes2))\n",
    "print(bikes2.reverse())\n"
   ]
  },
  {
   "cell_type": "code",
   "execution_count": null,
   "metadata": {},
   "outputs": [],
   "source": []
  }
 ]
}