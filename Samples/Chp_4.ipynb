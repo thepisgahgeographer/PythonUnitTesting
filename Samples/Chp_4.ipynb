{
 "metadata": {
  "language_info": {
   "codemirror_mode": {
    "name": "ipython",
    "version": 3
   },
   "file_extension": ".py",
   "mimetype": "text/x-python",
   "name": "python",
   "nbconvert_exporter": "python",
   "pygments_lexer": "ipython3",
   "version": "3.6.10-final"
  },
  "orig_nbformat": 2,
  "kernelspec": {
   "name": "python3",
   "display_name": "Python 3"
  }
 },
 "nbformat": 4,
 "nbformat_minor": 2,
 "cells": [
  {
   "cell_type": "code",
   "execution_count": 9,
   "metadata": {
    "tags": []
   },
   "outputs": [
    {
     "output_type": "stream",
     "name": "stdout",
     "text": "The name of the ridge is Hibriten\nThe elevation is 1000\nThe name of the ridge is Turkey Hen\nThe elevation is 1000\nThe name of the ridge is Timbered Ridge\nThe elevation is 1000\n"
    }
   ],
   "source": [
    "mountains = [\"Hibriten\", \"Turkey Hen\", \"Timbered Ridge\"]\n",
    "for mountain in mountains:\n",
    "    print(f\"The name of the ridge is {mountain}\")\n",
    "    print(f\"The elevation is 1000\")\n"
   ]
  },
  {
   "cell_type": "code",
   "execution_count": 14,
   "metadata": {
    "tags": []
   },
   "outputs": [
    {
     "output_type": "stream",
     "name": "stdout",
     "text": "0\n1\n2\n3\n4\n5\n6\n7\n8\n9\n10\n[0, 2, 4, 6, 8]\n"
    }
   ],
   "source": [
    "for value in range(11):\n",
    "    print(value)\n",
    "\n",
    "numbers = list(range(0,10,2))\n",
    "print(numbers)"
   ]
  },
  {
   "cell_type": "code",
   "execution_count": 40,
   "metadata": {
    "tags": []
   },
   "outputs": [
    {
     "output_type": "stream",
     "name": "stdout",
     "text": "[0, 1, 4, 9, 16, 25, 36, 49, 64, 81, 100]\n"
    }
   ],
   "source": [
    "#For the integers between 0 & 10, write out their squared value and write these to a list\n",
    "\n",
    "squares = []\n",
    "\n",
    "for value in range(0,11):\n",
    "    squares.append(value ** 2)\n",
    "\n",
    "print(squares)\n",
    "\n"
   ]
  },
  {
   "cell_type": "code",
   "execution_count": null,
   "metadata": {},
   "outputs": [],
   "source": []
  }
 ]
}