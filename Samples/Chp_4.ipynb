{
 "metadata": {
  "language_info": {
   "codemirror_mode": {
    "name": "ipython",
    "version": 3
   },
   "file_extension": ".py",
   "mimetype": "text/x-python",
   "name": "python",
   "nbconvert_exporter": "python",
   "pygments_lexer": "ipython3",
   "version": "3.8.5-final"
  },
  "orig_nbformat": 2,
  "kernelspec": {
   "name": "python3",
   "display_name": "Python 3"
  }
 },
 "nbformat": 4,
 "nbformat_minor": 2,
 "cells": [
  {
   "cell_type": "code",
   "execution_count": 27,
   "metadata": {
    "tags": []
   },
   "outputs": [
    {
     "output_type": "stream",
     "name": "stdout",
     "text": "The name of the ridge is ['Hibriten', 'Turkey Hen', 'Timbered Ridge']\nThe name of the ridge is [2230, 2100, 1650]\n"
    }
   ],
   "source": [
    "mountains = [\"Hibriten\", \"Turkey Hen\", \"Timbered Ridge\"]\n",
    "elevation = [2230, 2100, 1650]\n",
    "for val in mountains, elevation:\n",
    "    print(f\"The name of the ridge is {val}\")\n",
    "\n",
    "\n"
   ]
  },
  {
   "cell_type": "code",
   "execution_count": null,
   "metadata": {
    "tags": []
   },
   "outputs": [],
   "source": [
    "for value in range(11):\n",
    "    print(value)\n",
    "\n",
    "numbers = list(range(0,10,2))\n",
    "print(numbers)"
   ]
  },
  {
   "cell_type": "code",
   "execution_count": 28,
   "metadata": {
    "tags": []
   },
   "outputs": [
    {
     "output_type": "stream",
     "name": "stdout",
     "text": "[0, 1, 4, 9, 16, 25, 36, 49, 64, 81, 100]\n"
    }
   ],
   "source": [
    "#For the integers between 0 & 10, write out their squared value and write these to a list\n",
    "\n",
    "squares = []\n",
    "\n",
    "for value in range(0,11):\n",
    "    squares.append(value ** 2)\n",
    "\n",
    "print(squares)\n",
    "\n"
   ]
  },
  {
   "cell_type": "code",
   "execution_count": null,
   "metadata": {
    "tags": []
   },
   "outputs": [],
   "source": [
    "#For the integers between 0 & 10, write out their squared value and write these to a list\n",
    "\n",
    "\n",
    "lis = []\n",
    "\n",
    "for item in range(0,11):\n",
    "    lis.append(item ** 2)\n",
    "\n",
    "print(lis)"
   ]
  },
  {
   "cell_type": "code",
   "execution_count": null,
   "metadata": {},
   "outputs": [],
   "source": [
    "min(lis)"
   ]
  },
  {
   "cell_type": "code",
   "execution_count": null,
   "metadata": {},
   "outputs": [],
   "source": [
    "max(lis)"
   ]
  },
  {
   "cell_type": "code",
   "execution_count": null,
   "metadata": {},
   "outputs": [],
   "source": [
    "sum(lis)"
   ]
  },
  {
   "cell_type": "code",
   "execution_count": 33,
   "metadata": {},
   "outputs": [
    {
     "output_type": "execute_result",
     "data": {
      "text/plain": "list"
     },
     "metadata": {},
     "execution_count": 33
    }
   ],
   "source": [
    "squares = [val **2 for val in range(0,11)]\n",
    "squares\n",
    "type(squares)"
   ]
  },
  {
   "cell_type": "code",
   "execution_count": 32,
   "metadata": {},
   "outputs": [
    {
     "output_type": "execute_result",
     "data": {
      "text/plain": "[0, 4, 16, 36]"
     },
     "metadata": {},
     "execution_count": 32
    }
   ],
   "source": [
    "squares[0:8:2]"
   ]
  },
  {
   "cell_type": "code",
   "execution_count": null,
   "metadata": {
    "tags": []
   },
   "outputs": [],
   "source": [
    "for square in squares[:4]:\n",
    "    print(f\"My favorite number is {square}\")"
   ]
  },
  {
   "cell_type": "code",
   "execution_count": null,
   "metadata": {
    "tags": []
   },
   "outputs": [],
   "source": [
    "numbers = squares[:]\n",
    "for numb in numbers:\n",
    "    print(f\"\\n This number is {numb}\")\n"
   ]
  },
  {
   "cell_type": "code",
   "execution_count": 31,
   "metadata": {},
   "outputs": [
    {
     "output_type": "execute_result",
     "data": {
      "text/plain": "150"
     },
     "metadata": {},
     "execution_count": 31
    }
   ],
   "source": [
    "salsabike = (\"Fullsus\", 150)\n",
    "salsabike[1]"
   ]
  },
  {
   "cell_type": "code",
   "execution_count": 30,
   "metadata": {
    "tags": []
   },
   "outputs": [
    {
     "output_type": "stream",
     "name": "stdout",
     "text": "[0, 1, 4, 9, 16, 25, 36, 49, 64, 81]\n"
    }
   ],
   "source": [
    "#For the integers between 0 & 10, write out their squared value and write these to a list\n",
    "\n",
    "\n",
    "testList = []\n",
    "\n",
    "for val in range(0,10):\n",
    "    testList.append(val **2)\n",
    "\n",
    "print(testList)"
   ]
  },
  {
   "cell_type": "code",
   "execution_count": 35,
   "metadata": {
    "tags": []
   },
   "outputs": [
    {
     "output_type": "stream",
     "name": "stdout",
     "text": "[0, 1, 4, 9, 16, 25, 36, 49, 64, 81]\n"
    }
   ],
   "source": [
    "testing = [val**2 for val in range(0,10)]\n",
    "print(testing)"
   ]
  },
  {
   "cell_type": "code",
   "execution_count": null,
   "metadata": {},
   "outputs": [],
   "source": []
  }
 ]
}