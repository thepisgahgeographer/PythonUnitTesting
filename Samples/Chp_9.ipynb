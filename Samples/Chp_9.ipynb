{
 "metadata": {
  "language_info": {
   "codemirror_mode": {
    "name": "ipython",
    "version": 3
   },
   "file_extension": ".py",
   "mimetype": "text/x-python",
   "name": "python",
   "nbconvert_exporter": "python",
   "pygments_lexer": "ipython3",
   "version": "3.8.5-final"
  },
  "orig_nbformat": 2,
  "kernelspec": {
   "name": "python38564bitgisapiconda9006691f20974030baa3b28e15c02088",
   "display_name": "Python 3.8.5 64-bit ('GISAPI': conda)"
  }
 },
 "nbformat": 4,
 "nbformat_minor": 2,
 "cells": [
  {
   "cell_type": "markdown",
   "metadata": {},
   "source": [
    "#### Classes\n"
   ]
  },
  {
   "cell_type": "code",
   "execution_count": 17,
   "metadata": {
    "tags": []
   },
   "outputs": [
    {
     "output_type": "stream",
     "name": "stdout",
     "text": "Brushy\n3250\n"
    }
   ],
   "source": [
    "class Mountain:\n",
    "    def __init__(self, name, height):\n",
    "        self.name = name\n",
    "        self.height = height\n",
    "\n",
    "    def mtn_range(self, ranges):\n",
    "        self.ranges = ranges\n",
    "        return ranges\n",
    "\n",
    "    def add_elevation(self, adds):\n",
    "        final_height = self.height + adds\n",
    "        self.final_height = final_height\n",
    "\n",
    "\n",
    "test = Mountain(\"Hibriten\", 2211)\n",
    "test.mtn_range(\"Brushy\")\n",
    "print(test.ranges)\n",
    "#print(test)\n",
    "\n",
    "test.add_elevation(1000)\n",
    "print(test.final_height)\n"
   ]
  },
  {
   "cell_type": "code",
   "execution_count": null,
   "metadata": {},
   "outputs": [],
   "source": []
  }
 ]
}