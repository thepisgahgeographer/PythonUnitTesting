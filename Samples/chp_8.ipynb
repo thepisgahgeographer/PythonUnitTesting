{
 "metadata": {
  "language_info": {
   "codemirror_mode": {
    "name": "ipython",
    "version": 3
   },
   "file_extension": ".py",
   "mimetype": "text/x-python",
   "name": "python",
   "nbconvert_exporter": "python",
   "pygments_lexer": "ipython3",
   "version": "3.8.5-final"
  },
  "orig_nbformat": 2,
  "kernelspec": {
   "name": "python3",
   "display_name": "Python 3"
  }
 },
 "nbformat": 4,
 "nbformat_minor": 2,
 "cells": [
  {
   "cell_type": "code",
   "execution_count": null,
   "metadata": {
    "tags": []
   },
   "outputs": [],
   "source": [
    "help(\"modules\")"
   ]
  },
  {
   "cell_type": "code",
   "execution_count": null,
   "metadata": {
    "tags": []
   },
   "outputs": [],
   "source": [
    "def bike(brand, color=\"red\"):\n",
    "    print(f\"{color} is the color and {brand} is the brand\")\n",
    "\n",
    "bike(\"Ragley\")"
   ]
  },
  {
   "cell_type": "code",
   "execution_count": null,
   "metadata": {},
   "outputs": [],
   "source": [
    "def getformattedname(first_name, last_name):\n",
    "    fullname = f\"{first_name} {last_name}\"\n",
    "    return fullname.title()\n",
    "\n",
    "getformattedname(\"yuri\",\"potawsky\")\n"
   ]
  },
  {
   "cell_type": "code",
   "execution_count": null,
   "metadata": {
    "tags": []
   },
   "outputs": [],
   "source": [
    "def mountainrange(first, second):\n",
    "    mountains = {\"Name1\": first, \"Name2\": second}\n",
    "    return mountains\n",
    "\n",
    "testing = mountainrange(\"Hibriten\", \"Hen\")\n",
    "print(testing)"
   ]
  },
  {
   "cell_type": "code",
   "execution_count": null,
   "metadata": {
    "tags": []
   },
   "outputs": [],
   "source": [
    "def get_formatted_name(first_name, last_name):\n",
    "    \"\"\"Return a full name, neatly formatted.\"\"\"\n",
    "    full_name = f\"{first_name} {last_name}\"\n",
    "    return full_name.title()\n",
    "\n",
    "while True:\n",
    "    print(\"\\nPlease tell me your name:\")\n",
    "    print(\"(enter 'q' at any time to quit)\")\n",
    "\n",
    "    f_name = input(\"First name: \")\n",
    "    if f_name == 'q':\n",
    "        break\n",
    "\n",
    "    l_name = input(\"Last name: \")\n",
    "    if l_name == 'q':\n",
    "        break\n",
    "\n",
    "    formatted_name = get_formatted_name(f_name, l_name)\n",
    "    print(f\"\\nHello, {formatted_name}!\")"
   ]
  },
  {
   "cell_type": "code",
   "execution_count": null,
   "metadata": {
    "tags": []
   },
   "outputs": [],
   "source": [
    "def printmtns(mtns):\n",
    "    for name in mtns:\n",
    "        print(f\"The mountain name is: {name}\")\n",
    "\n",
    "tst = [\"Hibriten\", \"Hen\", \"Timbered Ridge\"]\n",
    "\n",
    "#printmtns(tst)\n",
    "def printing(tests):\n",
    "    for test in tests:\n",
    "        print(f\"{test}\")\n",
    "\n",
    "printing(tst)\n"
   ]
  },
  {
   "cell_type": "code",
   "execution_count": null,
   "metadata": {},
   "outputs": [],
   "source": [
    "def addinfo(tst):\n",
    "    while tst:\n",
    "        var = tst.pop()\n",
    "        tstfinal.append(var)\n",
    "        return tstfinal\n",
    "\n",
    "\n",
    "tst = [\"Hibriten\", \"Hen\", \"Timbered Ridge\"]\n",
    "tstfinal = []\n",
    "\n",
    "addinfo(tst)"
   ]
  },
  {
   "cell_type": "code",
   "execution_count": 31,
   "metadata": {
    "tags": []
   },
   "outputs": [
    {
     "output_type": "stream",
     "name": "stdout",
     "text": "['Timbered Ridge']\n"
    }
   ],
   "source": [
    "\n",
    "\n",
    "def func(tst, tstfinal):\n",
    "    \n",
    "    while tst:\n",
    "        var = tst.pop(-1)\n",
    "        tstfinal.append(var)\n",
    "        return tstfinal\n",
    "\n",
    "prevmounts = [\"Hibriten\", \"Hen\", \"Timbered Ridge\"]\n",
    "finale = func(prevmounts[:], [])\n",
    "print(finale)\n",
    "\n",
    "\n"
   ]
  },
  {
   "cell_type": "code",
   "execution_count": 34,
   "metadata": {},
   "outputs": [
    {
     "output_type": "execute_result",
     "data": {
      "text/plain": "'Hibriten Mountain'"
     },
     "metadata": {},
     "execution_count": 34
    }
   ],
   "source": [
    "mountain1 = \"Hibriten\"\n",
    "mountain2 = \"Mountain\"\n",
    "\n",
    "def combine():\n",
    "    mountain3 = mountain1 + \" \" + mountain2\n",
    "    return mountain3\n",
    "combine()\n"
   ]
  },
  {
   "cell_type": "code",
   "execution_count": null,
   "metadata": {},
   "outputs": [],
   "source": []
  }
 ]
}