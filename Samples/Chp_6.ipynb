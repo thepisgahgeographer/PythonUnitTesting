{
 "metadata": {
  "language_info": {
   "codemirror_mode": {
    "name": "ipython",
    "version": 3
   },
   "file_extension": ".py",
   "mimetype": "text/x-python",
   "name": "python",
   "nbconvert_exporter": "python",
   "pygments_lexer": "ipython3",
   "version": "3.6.10-final"
  },
  "orig_nbformat": 2,
  "kernelspec": {
   "name": "python3",
   "display_name": "Python 3"
  }
 },
 "nbformat": 4,
 "nbformat_minor": 2,
 "cells": [
  {
   "cell_type": "markdown",
   "metadata": {},
   "source": [
    "#### Dictionaries"
   ]
  },
  {
   "cell_type": "code",
   "execution_count": 11,
   "metadata": {
    "tags": []
   },
   "outputs": [
    {
     "output_type": "stream",
     "name": "stdout",
     "text": "{'tallest': 'Hibriten', 'range': 'Brushy', 'cliffs': 'True', 'marker': 2500, 'elevation': 2300}\n"
    }
   ],
   "source": [
    "mountains = {\n",
    "    \"tallest\": \"Hibriten\",\n",
    "    \"range\" : \"Brushy\",\n",
    "    \"cliffs\" : \"True\",\n",
    "    \"marker\" : \"Yes\"\n",
    "}\n",
    "\n",
    "mountains[\"elevation\"] = 2300\n",
    "#mountains[\"cliffs\"] = \"False\"\n",
    "#print(mountains[\"tallest\"])\n",
    "#print(mountains)\n",
    "\n",
    "if mountains[\"elevation\"] >= 2200:\n",
    "    spotele = 2500\n",
    "\n",
    "mountains[\"marker\"] = spotele\n",
    "\n",
    "print(mountains)\n",
    "\n"
   ]
  },
  {
   "cell_type": "code",
   "execution_count": null,
   "metadata": {},
   "outputs": [],
   "source": []
  }
 ]
}