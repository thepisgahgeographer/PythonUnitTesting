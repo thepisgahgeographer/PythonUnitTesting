{
 "metadata": {
  "language_info": {
   "codemirror_mode": {
    "name": "ipython",
    "version": 3
   },
   "file_extension": ".py",
   "mimetype": "text/x-python",
   "name": "python",
   "nbconvert_exporter": "python",
   "pygments_lexer": "ipython3",
   "version": "3.8.5-final"
  },
  "orig_nbformat": 2,
  "kernelspec": {
   "name": "python3",
   "display_name": "Python 3"
  }
 },
 "nbformat": 4,
 "nbformat_minor": 2,
 "cells": [
  {
   "cell_type": "markdown",
   "metadata": {},
   "source": [
    "#### Dictionaries"
   ]
  },
  {
   "cell_type": "code",
   "execution_count": null,
   "metadata": {
    "tags": []
   },
   "outputs": [],
   "source": [
    "mountains = {\n",
    "    \"tallest\": \"Hibriten\",\n",
    "    \"range\" : \"Brushy\",\n",
    "    \"cliffs\" : \"True\",\n",
    "    \"marker\" : \"Yes\"\n",
    "}\n",
    "\n",
    "mountains[\"elevation\"] = 2300\n",
    "#mountains[\"cliffs\"] = \"False\"\n",
    "#print(mountains[\"tallest\"])\n",
    "#print(mountains)\n",
    "\n",
    "if mountains[\"elevation\"] >= 2200:\n",
    "    spotele = 2500\n",
    "\n",
    "mountains[\"marker\"] = spotele\n",
    "del mountains[\"range\"]\n",
    "print(mountains.get(\"elevation\", \"Nothing\"))\n",
    "print(mountains)\n",
    "\n"
   ]
  },
  {
   "cell_type": "code",
   "execution_count": null,
   "metadata": {
    "tags": []
   },
   "outputs": [],
   "source": [
    "mountains = {\n",
    "    \"tallest\": \"Hibriten\",\n",
    "    \"range\" : \"Brushy\",\n",
    "    \"cliffs\" : \"True\",\n",
    "    \"marker\" : \"Yes\"\n",
    "}\n",
    "\n",
    "#for key, value in mountains.items():\n",
    "#    print(f\"The {key} item of interest is {value}\")\n",
    "\n",
    "lis = [\"Hibriten\", \"Brushy\"]\n",
    "\n",
    "for item in mountains.values():\n",
    "    if item in lis:\n",
    "        print(f\"{item}\")\n",
    "\n",
    "for it in mountains.keys():\n",
    "    listing = [\"tallest\", \"range\"]\n",
    "    if it in listing:\n",
    "        print(it)\n"
   ]
  },
  {
   "cell_type": "code",
   "execution_count": null,
   "metadata": {
    "tags": []
   },
   "outputs": [],
   "source": [
    "mountains = {\n",
    "    \"tallest\": \"Hibriten\",\n",
    "    \"range\" : \"Brushy\",\n",
    "    \"cliffs\" : True,\n",
    "    \"marker\" : \"Yes\",\n",
    "    \"accessRoad\" : \"Yes\"\n",
    "}\n",
    "\n",
    "for key in sorted(mountains.keys()):\n",
    "    print(key)\n",
    "\n",
    "for val in set(mountains.values()):\n",
    "    print(val)"
   ]
  },
  {
   "cell_type": "code",
   "execution_count": null,
   "metadata": {
    "tags": []
   },
   "outputs": [],
   "source": [
    "listing = [i**2 for i in range(11)]\n",
    "print(listing)"
   ]
  },
  {
   "cell_type": "code",
   "execution_count": null,
   "metadata": {
    "tags": []
   },
   "outputs": [],
   "source": [
    "mountains = {\n",
    "    \"tallest\": \"Hibriten\",\n",
    "    \"range\" : \"Brushy\",\n",
    "    \"cliffs\" : True,\n",
    "    \"marker\" : \"Yes\",\n",
    "    \"accessRoad\" : \"Yes\"\n",
    "}\n",
    "\n",
    "\n",
    "\n",
    "ranges = []\n",
    "\n",
    "for ran in range(5):\n",
    "    newrange = {\n",
    "    \"range\": \"Brushy\",\n",
    "    \"name\" : \"Hen Mountain\"\n",
    "}\n",
    "    ranges.append(newrange)\n",
    "\n",
    "for vals in ranges[:3]:\n",
    "    if vals[\"range\"] == \"Brushy\":\n",
    "        vals[\"range\"]  = \"Brushy Mountains\"\n",
    "\n",
    "for val in ranges:\n",
    "    print(val)\n"
   ]
  },
  {
   "cell_type": "code",
   "execution_count": 18,
   "metadata": {
    "tags": []
   },
   "outputs": [
    {
     "output_type": "stream",
     "name": "stdout",
     "text": "Buckeye\nLittleRiver\nPhillipsBranch\nBuckeye\n"
    }
   ],
   "source": [
    "streams = {\n",
    "    \"WilsonCreek\": \"PhillipsBranch\",\n",
    "    \"Brushies\": \"LittleRiver\",\n",
    "    \"MiddleProng\": \"Buckeye\"\n",
    "}\n",
    "\n",
    "#print(streams[\"Brushies\"])\n",
    "#for key in streams.keys():\n",
    "#    print(key)\n",
    "\n",
    "for val in sorted(streams.values()):\n",
    "    print(val)\n",
    "\n",
    "#for val in streams.values():\n",
    "#    if val == \"Buckeye\":\n",
    "#        print(val)\n"
   ]
  },
  {
   "cell_type": "code",
   "execution_count": null,
   "metadata": {},
   "outputs": [],
   "source": []
  }
 ]
}