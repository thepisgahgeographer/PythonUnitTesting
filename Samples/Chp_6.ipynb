{
 "metadata": {
  "language_info": {
   "codemirror_mode": {
    "name": "ipython",
    "version": 3
   },
   "file_extension": ".py",
   "mimetype": "text/x-python",
   "name": "python",
   "nbconvert_exporter": "python",
   "pygments_lexer": "ipython3",
   "version": "3.6.10-final"
  },
  "orig_nbformat": 2,
  "kernelspec": {
   "name": "python3",
   "display_name": "Python 3"
  }
 },
 "nbformat": 4,
 "nbformat_minor": 2,
 "cells": [
  {
   "cell_type": "markdown",
   "metadata": {},
   "source": [
    "#### Dictionaries"
   ]
  },
  {
   "cell_type": "code",
   "execution_count": 108,
   "metadata": {
    "tags": []
   },
   "outputs": [
    {
     "output_type": "stream",
     "name": "stdout",
     "text": "2300\n{'tallest': 'Hibriten', 'cliffs': 'True', 'marker': 2500, 'elevation': 2300}\n"
    },
    {
     "output_type": "stream",
     "text": "\u001b[1;31mDocstring:\u001b[0m\nprint(value, ..., sep=' ', end='\\n', file=sys.stdout, flush=False)\n\nPrints the values to a stream, or to sys.stdout by default.\nOptional keyword arguments:\nfile:  a file-like object (stream); defaults to the current sys.stdout.\nsep:   string inserted between values, default a space.\nend:   string appended after the last value, default a newline.\nflush: whether to forcibly flush the stream.\n\u001b[1;31mType:\u001b[0m      builtin_function_or_method\n"
    }
   ],
   "source": [
    "mountains = {\n",
    "    \"tallest\": \"Hibriten\",\n",
    "    \"range\" : \"Brushy\",\n",
    "    \"cliffs\" : \"True\",\n",
    "    \"marker\" : \"Yes\"\n",
    "}\n",
    "\n",
    "mountains[\"elevation\"] = 2300\n",
    "#mountains[\"cliffs\"] = \"False\"\n",
    "#print(mountains[\"tallest\"])\n",
    "#print(mountains)\n",
    "\n",
    "if mountains[\"elevation\"] >= 2200:\n",
    "    spotele = 2500\n",
    "\n",
    "mountains[\"marker\"] = spotele\n",
    "del mountains[\"range\"]\n",
    "print(mountains.get(\"elevation\", \"Nothing\"))\n",
    "print(mountains)\n",
    "\n"
   ]
  },
  {
   "cell_type": "code",
   "execution_count": null,
   "metadata": {
    "tags": []
   },
   "outputs": [],
   "source": [
    "mountains = {\n",
    "    \"tallest\": \"Hibriten\",\n",
    "    \"range\" : \"Brushy\",\n",
    "    \"cliffs\" : \"True\",\n",
    "    \"marker\" : \"Yes\"\n",
    "}\n",
    "\n",
    "#for key, value in mountains.items():\n",
    "#    print(f\"The {key} item of interest is {value}\")\n",
    "\n",
    "lis = [\"Hibriten\", \"Brushy\"]\n",
    "\n",
    "for item in mountains.values():\n",
    "    if item in lis:\n",
    "        print(f\"{item}\")\n",
    "\n",
    "for it in mountains.keys():\n",
    "    listing = [\"tallest\", \"range\"]\n",
    "    if it in listing:\n",
    "        print(it)\n"
   ]
  },
  {
   "cell_type": "code",
   "execution_count": null,
   "metadata": {
    "tags": []
   },
   "outputs": [],
   "source": [
    "mountains = {\n",
    "    \"tallest\": \"Hibriten\",\n",
    "    \"range\" : \"Brushy\",\n",
    "    \"cliffs\" : True,\n",
    "    \"marker\" : \"Yes\",\n",
    "    \"accessRoad\" : \"Yes\"\n",
    "}\n",
    "\n",
    "for key in sorted(mountains.keys()):\n",
    "    print(key)\n",
    "\n",
    "for val in set(mountains.values()):\n",
    "    print(val)"
   ]
  },
  {
   "cell_type": "code",
   "execution_count": null,
   "metadata": {
    "tags": []
   },
   "outputs": [],
   "source": [
    "listing = [i**2 for i in range(11)]\n",
    "print(listing)"
   ]
  },
  {
   "cell_type": "code",
   "execution_count": null,
   "metadata": {
    "tags": []
   },
   "outputs": [],
   "source": [
    "mountains = {\n",
    "    \"tallest\": \"Hibriten\",\n",
    "    \"range\" : \"Brushy\",\n",
    "    \"cliffs\" : True,\n",
    "    \"marker\" : \"Yes\",\n",
    "    \"accessRoad\" : \"Yes\"\n",
    "}\n",
    "\n",
    "\n",
    "\n",
    "ranges = []\n",
    "\n",
    "for ran in range(5):\n",
    "    newrange = {\n",
    "    \"range\": \"Brushy\",\n",
    "    \"name\" : \"Hen Mountain\"\n",
    "}\n",
    "    ranges.append(newrange)\n",
    "\n",
    "for vals in ranges[:3]:\n",
    "    if vals[\"range\"] == \"Brushy\":\n",
    "        vals[\"range\"]  = \"Brushy Mountains\"\n",
    "\n",
    "for val in ranges:\n",
    "    print(val)\n"
   ]
  }
 ]
}