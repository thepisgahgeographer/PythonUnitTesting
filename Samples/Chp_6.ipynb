{
 "metadata": {
  "language_info": {
   "codemirror_mode": {
    "name": "ipython",
    "version": 3
   },
   "file_extension": ".py",
   "mimetype": "text/x-python",
   "name": "python",
   "nbconvert_exporter": "python",
   "pygments_lexer": "ipython3",
   "version": "3.6.10-final"
  },
  "orig_nbformat": 2,
  "kernelspec": {
   "name": "python3",
   "display_name": "Python 3"
  }
 },
 "nbformat": 4,
 "nbformat_minor": 2,
 "cells": [
  {
   "cell_type": "markdown",
   "metadata": {},
   "source": [
    "#### Dictionaries"
   ]
  },
  {
   "cell_type": "code",
   "execution_count": null,
   "metadata": {
    "tags": []
   },
   "outputs": [],
   "source": [
    "mountains = {\n",
    "    \"tallest\": \"Hibriten\",\n",
    "    \"range\" : \"Brushy\",\n",
    "    \"cliffs\" : \"True\",\n",
    "    \"marker\" : \"Yes\"\n",
    "}\n",
    "\n",
    "mountains[\"elevation\"] = 2300\n",
    "#mountains[\"cliffs\"] = \"False\"\n",
    "#print(mountains[\"tallest\"])\n",
    "#print(mountains)\n",
    "\n",
    "if mountains[\"elevation\"] >= 2200:\n",
    "    spotele = 2500\n",
    "\n",
    "mountains[\"marker\"] = spotele\n",
    "del mountains[\"range\"]\n",
    "print(mountains.get(\"elevation\", \"Nothing\"))\n",
    "print(mountains)\n",
    "\n"
   ]
  },
  {
   "cell_type": "code",
   "execution_count": null,
   "metadata": {
    "tags": []
   },
   "outputs": [],
   "source": [
    "mountains = {\n",
    "    \"tallest\": \"Hibriten\",\n",
    "    \"range\" : \"Brushy\",\n",
    "    \"cliffs\" : \"True\",\n",
    "    \"marker\" : \"Yes\"\n",
    "}\n",
    "\n",
    "#for key, value in mountains.items():\n",
    "#    print(f\"The {key} item of interest is {value}\")\n",
    "\n",
    "lis = [\"Hibriten\", \"Brushy\"]\n",
    "\n",
    "for item in mountains.values():\n",
    "    if item in lis:\n",
    "        print(f\"{item}\")\n",
    "\n",
    "for it in mountains.keys():\n",
    "    listing = [\"tallest\", \"range\"]\n",
    "    if it in listing:\n",
    "        print(it)\n"
   ]
  },
  {
   "cell_type": "code",
   "execution_count": null,
   "metadata": {
    "tags": []
   },
   "outputs": [],
   "source": [
    "mountains = {\n",
    "    \"tallest\": \"Hibriten\",\n",
    "    \"range\" : \"Brushy\",\n",
    "    \"cliffs\" : True,\n",
    "    \"marker\" : \"Yes\"\n",
    "}\n",
    "\n",
    "if mountains[\"cliffs\"] == True:\n",
    "    print(\"True\")"
   ]
  },
  {
   "cell_type": "code",
   "execution_count": null,
   "metadata": {
    "tags": []
   },
   "outputs": [],
   "source": [
    "mountains = {\n",
    "    \"tallest\": \"Hibriten\",\n",
    "    \"range\" : \"Brushy\",\n",
    "    \"cliffs\" : True,\n",
    "    \"marker\" : \"Yes\"\n",
    "}\n",
    "\n",
    "othermtn = [\"hen\", \"Hibriten\"]\n",
    "print(mountains.items())\n",
    "\n",
    "for val in mountains.values():\n",
    "    if val in othermtn:\n",
    "        print(f\"{val}\")\n"
   ]
  },
  {
   "cell_type": "code",
   "execution_count": 83,
   "metadata": {
    "tags": []
   },
   "outputs": [
    {
     "output_type": "stream",
     "name": "stdout",
     "text": "Yes\nTrue\nBrushy\nHibriten\n"
    }
   ],
   "source": [
    "mountains = {\n",
    "    \"tallest\": \"Hibriten\",\n",
    "    \"range\" : \"Brushy\",\n",
    "    \"cliffs\" : True,\n",
    "    \"marker\" : \"Yes\",\n",
    "    \"accessRoad\" : \"Yes\"\n",
    "}\n",
    "\n",
    "#for key in sorted(mountains.keys()):\n",
    "#    print(key)\n",
    "\n",
    "for val in set(mountains.values()):\n",
    "    print(val)"
   ]
  },
  {
   "cell_type": "code",
   "execution_count": 86,
   "metadata": {
    "tags": []
   },
   "outputs": [
    {
     "output_type": "stream",
     "name": "stdout",
     "text": "[0, 1, 4, 9, 16, 25, 36, 49, 64, 81]\n"
    }
   ],
   "source": [
    "listing = [i**2 for i in range(10)]\n",
    "print(listing)"
   ]
  },
  {
   "cell_type": "code",
   "execution_count": null,
   "metadata": {},
   "outputs": [],
   "source": []
  }
 ]
}