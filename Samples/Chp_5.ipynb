{
 "metadata": {
  "language_info": {
   "codemirror_mode": {
    "name": "ipython",
    "version": 3
   },
   "file_extension": ".py",
   "mimetype": "text/x-python",
   "name": "python",
   "nbconvert_exporter": "python",
   "pygments_lexer": "ipython3",
   "version": "3.6.10-final"
  },
  "orig_nbformat": 2,
  "kernelspec": {
   "name": "python3",
   "display_name": "Python 3"
  }
 },
 "nbformat": 4,
 "nbformat_minor": 2,
 "cells": [
  {
   "cell_type": "code",
   "execution_count": null,
   "metadata": {},
   "outputs": [],
   "source": [
    "flyfish = (\"rod\", 78, \"Four Weight\")\n",
    "type(flyfish)"
   ]
  },
  {
   "cell_type": "code",
   "execution_count": null,
   "metadata": {
    "tags": []
   },
   "outputs": [],
   "source": [
    "mountains = [\"Hibriten\", \"Hen\", \"Timbered Ridge\", \"Millers Creek\"]\n",
    "\n",
    "for mountain in mountains:\n",
    "    if mountain == \"Hibriten\":\n",
    "        print(mountain.upper())\n",
    "    else:\n",
    "        print(mountain.lower())\n",
    "\n",
    "mountains[0].title() == \"Hibriten\""
   ]
  },
  {
   "cell_type": "code",
   "execution_count": null,
   "metadata": {
    "tags": []
   },
   "outputs": [],
   "source": [
    "mountains = [\"Hibriten\", \"Hen\", \"Timbered Ridge\", \"Bullinger\"]\n",
    "\"Hibriten\" in mountains\n",
    "\n",
    "if \"Hen Mtn \" not in mountains:\n",
    "    print(f\"{mountains[1]} is not in the list\")\n",
    "\n",
    "for record in mountains:\n",
    "    print(f\"\\n {record}\")\n"
   ]
  },
  {
   "cell_type": "code",
   "execution_count": 22,
   "metadata": {
    "tags": []
   },
   "outputs": [
    {
     "output_type": "stream",
     "name": "stdout",
     "text": "2228 is higher than 2000 feet\n1958 does not fall into first two categories\n1750 is between 1400 and 1800 feet\n1500 is between 1400 and 1800 feet\n"
    }
   ],
   "source": [
    "mountains = [2228, 1958, 1750, 1500]\n",
    "\n",
    "# higher than 2000\n",
    "# between 1400 and 1800\n",
    "# all other values\n",
    "\n",
    "for val in mountains:\n",
    "    if val >= 2000:\n",
    "        print(f\"{val} is higher than 2000 feet\")\n",
    "    elif (val >= 1400) and (val <= 1800):\n",
    "       print(f\"{val} is between 1400 and 1800 feet\")\n",
    "    else:\n",
    "        print(f\"{val} does not fall into first two categories\")\n",
    "\n",
    "\n"
   ]
  },
  {
   "cell_type": "code",
   "execution_count": 16,
   "metadata": {
    "tags": []
   },
   "outputs": [
    {
     "output_type": "stream",
     "name": "stdout",
     "text": "Adding mushrooms.\n"
    }
   ],
   "source": [
    "requested_toppings = ['mushrooms', 'extra cheese']\n",
    "if 'mushrooms' in requested_toppings:\n",
    "    print(\"Adding mushrooms.\")\n",
    "elif 'pepperoni' in requested_toppings:\n",
    "    print(\"Adding pepperoni.\")\n",
    "elif 'extra cheese' in requested_toppings:\n",
    "    print(\"Adding extra cheese.\")\n"
   ]
  },
  {
   "cell_type": "code",
   "execution_count": null,
   "metadata": {},
   "outputs": [],
   "source": []
  }
 ]
}