{
 "metadata": {
  "language_info": {
   "codemirror_mode": {
    "name": "ipython",
    "version": 3
   },
   "file_extension": ".py",
   "mimetype": "text/x-python",
   "name": "python",
   "nbconvert_exporter": "python",
   "pygments_lexer": "ipython3",
   "version": "3.6.10-final"
  },
  "orig_nbformat": 2,
  "kernelspec": {
   "name": "python3",
   "display_name": "Python 3"
  }
 },
 "nbformat": 4,
 "nbformat_minor": 2,
 "cells": [
  {
   "cell_type": "code",
   "execution_count": null,
   "metadata": {},
   "outputs": [],
   "source": [
    "flyfish = (\"rod\", 78, \"Four Weight\")\n",
    "type(flyfish)"
   ]
  },
  {
   "cell_type": "code",
   "execution_count": null,
   "metadata": {
    "tags": []
   },
   "outputs": [],
   "source": [
    "mountains = [\"Hibriten\", \"Hen\", \"Timbered Ridge\", \"Millers Creek\"]\n",
    "\n",
    "for mountain in mountains:\n",
    "    if mountain == \"Hibriten\":\n",
    "        print(mountain.upper())\n",
    "    else:\n",
    "        print(mountain.lower())\n",
    "\n",
    "mountains[0].title() == \"Hibriten\""
   ]
  },
  {
   "cell_type": "code",
   "execution_count": null,
   "metadata": {
    "tags": []
   },
   "outputs": [],
   "source": [
    "mountains = [\"Hibriten\", \"Hen\", \"Timbered Ridge\", \"Bullinger\"]\n",
    "\"Hibriten\" in mountains\n",
    "\n",
    "if \"Hen Mtn \" not in mountains:\n",
    "    print(f\"{mountains[1]} is not in the list\")\n",
    "\n",
    "for record in mountains:\n",
    "    print(f\"\\n {record}\")\n"
   ]
  },
  {
   "cell_type": "code",
   "execution_count": null,
   "metadata": {
    "tags": []
   },
   "outputs": [],
   "source": [
    "mountains = [2228, 1958, 1750, 1500]\n",
    "\n",
    "# higher than 2000\n",
    "# between 1400 and 1800\n",
    "# all other values\n",
    "\n",
    "for val in mountains:\n",
    "    if val >= 2000:\n",
    "        print(f\"{val} is higher than 2000 feet\")\n",
    "    elif (val >= 1400) and (val <= 1800):\n",
    "       print(f\"{val} is between 1400 and 1800 feet\")\n",
    "    else:\n",
    "        print(f\"{val} does not fall into first two categories\")\n",
    "\n",
    "\n"
   ]
  },
  {
   "cell_type": "code",
   "execution_count": null,
   "metadata": {
    "tags": []
   },
   "outputs": [],
   "source": [
    "mountains = [\"hibriten\", \"Hen\", \"Timbered Ridge\", \"Bullinger\"]\n",
    "mymountains = [\"hibriten\"]\n",
    "\n",
    "for mymountain in mymountains:\n",
    "    if mymountain in mountains:\n",
    "        print(f\"{mymountain.title()} Mountain is present in both lists\")"
   ]
  },
  {
   "cell_type": "code",
   "execution_count": null,
   "metadata": {
    "tags": []
   },
   "outputs": [],
   "source": [
    "mountains = [2228, 1958, 1750, 1500]\n",
    "spotelevations = [1750, 1958]\n",
    "\n",
    "for elevation in spotelevations:\n",
    "    if elevation in mountains:\n",
    "        print(f\"The Spot Elevations that match are {elevation}\")\n",
    "\n"
   ]
  },
  {
   "cell_type": "code",
   "execution_count": 5,
   "metadata": {
    "tags": []
   },
   "outputs": [
    {
     "output_type": "stream",
     "name": "stdout",
     "text": "This spot elevation 2000 is in both lists\n[1750, 5000, 1958, 3000]\n"
    }
   ],
   "source": [
    "mountains = [2228, 1958, 1750, 1500]\n",
    "spotelevations = [1750, 1958, 2000]\n",
    "\n",
    "for elevation in spotelevations:\n",
    "    if elevation not in mountains:\n",
    "        print(f\"This spot elevation {elevation} is in both lists\")\n",
    "\n",
    "spotelevations[2] = 3000\n",
    "spotelevations.insert(1, 5000)\n",
    "print(spotelevations)"
   ]
  },
  {
   "cell_type": "code",
   "execution_count": null,
   "metadata": {
    "tags": []
   },
   "outputs": [],
   "source": [
    "#For the integers between 0 & 10, write out their squared value and write these to a list\n",
    "\n",
    "\n",
    "emptylis = []\n",
    "\n",
    "for integ in range(0, 11):\n",
    "    emptylis.append(integ ** 2)\n",
    "print(emptylis)"
   ]
  },
  {
   "cell_type": "code",
   "execution_count": null,
   "metadata": {},
   "outputs": [],
   "source": []
  }
 ]
}